{
 "cells": [
  {
   "cell_type": "code",
   "execution_count": 10,
   "metadata": {
    "collapsed": false
   },
   "outputs": [
    {
     "ename": "NameError",
     "evalue": "name 'add_cash' is not defined",
     "output_type": "error",
     "traceback": [
      "\u001b[0;31m---------------------------------------------------------------------------\u001b[0m",
      "\u001b[0;31mNameError\u001b[0m                                 Traceback (most recent call last)",
      "\u001b[0;32m<ipython-input-10-5fddfadca04b>\u001b[0m in \u001b[0;36m<module>\u001b[0;34m()\u001b[0m\n\u001b[1;32m     80\u001b[0m \u001b[0;34m\u001b[0m\u001b[0m\n\u001b[1;32m     81\u001b[0m \u001b[0mg\u001b[0m \u001b[0;34m=\u001b[0m \u001b[0mbank\u001b[0m\u001b[0;34m(\u001b[0m\u001b[0;34m)\u001b[0m\u001b[0;34m\u001b[0m\u001b[0m\n\u001b[0;32m---> 82\u001b[0;31m \u001b[0mg\u001b[0m\u001b[0;34m.\u001b[0m\u001b[0mdeposit_gift\u001b[0m\u001b[0;34m(\u001b[0m\u001b[0;36m2022\u001b[0m\u001b[0;34m)\u001b[0m\u001b[0;34m\u001b[0m\u001b[0m\n\u001b[0m\u001b[1;32m     83\u001b[0m \u001b[0mg\u001b[0m\u001b[0;34m.\u001b[0m\u001b[0mdeposit_gift\u001b[0m\u001b[0;34m(\u001b[0m\u001b[0;36m50\u001b[0m\u001b[0;34m)\u001b[0m\u001b[0;34m\u001b[0m\u001b[0m\n\u001b[1;32m     84\u001b[0m \u001b[0mg\u001b[0m\u001b[0;34m.\u001b[0m\u001b[0mtake_from_env\u001b[0m\u001b[0;34m(\u001b[0m\u001b[0;36m2\u001b[0m\u001b[0;34m,\u001b[0m\u001b[0;34m'spend'\u001b[0m\u001b[0;34m,\u001b[0m \u001b[0;36m2\u001b[0m\u001b[0;34m,\u001b[0m \u001b[0;34m'rent'\u001b[0m\u001b[0;34m)\u001b[0m\u001b[0;34m\u001b[0m\u001b[0m\n",
      "\u001b[0;32m<ipython-input-10-5fddfadca04b>\u001b[0m in \u001b[0;36mdeposit_gift\u001b[0;34m(self, gift)\u001b[0m\n\u001b[1;32m     16\u001b[0m     \u001b[0;31m# add check using check format\u001b[0m\u001b[0;34m\u001b[0m\u001b[0;34m\u001b[0m\u001b[0m\n\u001b[1;32m     17\u001b[0m     \u001b[0;32mdef\u001b[0m \u001b[0mdeposit_gift\u001b[0m\u001b[0;34m(\u001b[0m\u001b[0mself\u001b[0m\u001b[0;34m,\u001b[0m \u001b[0mgift\u001b[0m\u001b[0;34m)\u001b[0m\u001b[0;34m:\u001b[0m\u001b[0;34m\u001b[0m\u001b[0m\n\u001b[0;32m---> 18\u001b[0;31m         \u001b[0mself\u001b[0m\u001b[0;34m.\u001b[0m\u001b[0mgift_bank\u001b[0m\u001b[0;34m.\u001b[0m\u001b[0mappend\u001b[0m\u001b[0;34m(\u001b[0m\u001b[0madd_cash\u001b[0m\u001b[0;34m(\u001b[0m\u001b[0mgift\u001b[0m\u001b[0;34m)\u001b[0m\u001b[0;34m)\u001b[0m\u001b[0;34m\u001b[0m\u001b[0m\n\u001b[0m\u001b[1;32m     19\u001b[0m         self.transaction.append({\n\u001b[1;32m     20\u001b[0m             \u001b[0;34m'type'\u001b[0m\u001b[0;34m:\u001b[0m \u001b[0;34m'GIFT_DEPOSIT'\u001b[0m\u001b[0;34m,\u001b[0m\u001b[0;34m\u001b[0m\u001b[0m\n",
      "\u001b[0;31mNameError\u001b[0m: name 'add_cash' is not defined"
     ]
    }
   ],
   "source": []
  },
  {
   "cell_type": "markdown",
   "metadata": {},
   "source": [
    "## "
   ]
  },
  {
   "cell_type": "code",
   "execution_count": 1,
   "metadata": {
    "collapsed": false
   },
   "outputs": [
    {
     "name": "stdout",
     "output_type": "stream",
     "text": [
      "[{'save': 404.40000000000003, 'spend': 604.6, 'utility': 1011.0}, {'save': 10.0, 'spend': 11.0, 'utility': 25.0}, {'save': 446.40000000000003, 'spend': 667.6, 'utility': 1116.0}, {'save': 1004.6, 'spend': 1506.8999999999999, 'utility': 2511.5}]\n",
      "[{'type': 'GIFT_DEPOSIT', 'amount': 2022, 'date': '2017-07-08 02:42:37'}, {'type': 'GIFT_DEPOSIT', 'amount': 50, 'date': '2017-07-08 02:42:37'}, {'type': 'GIFT_DEPOSIT', 'amount': 2232, 'date': '2017-07-08 02:42:37'}, {'type': 'TRANSACTION', 'amount': 2, 'envelope': 'spend', 'title': 'FOR DICK', 'gift': {'type': 'GIFT_DEPOSIT', 'amount': 50, 'date': '2017-07-08 02:42:37'}, 'date': '2017-07-08 02:42:37'}, {'type': 'TRANSACTION', 'amount': 2, 'envelope': 'spend', 'title': 'FOR DICK', 'gift': {'type': 'GIFT_DEPOSIT', 'amount': 2022, 'date': '2017-07-08 02:42:37'}, 'date': '2017-07-08 02:42:37'}, {'type': 'TRANSACTION', 'amount': 2, 'envelope': 'spend', 'title': 'FOR DICK', 'gift': {'type': 'GIFT_DEPOSIT', 'amount': 2232, 'date': '2017-07-08 02:42:37'}, 'date': '2017-07-08 02:42:37'}, {'type': 'TRANSACTION', 'amount': 2, 'envelope': 'spend', 'title': 'FOR DICK', 'gift': {'type': 'GIFT_DEPOSIT', 'amount': 50, 'date': '2017-07-08 02:42:37'}, 'date': '2017-07-08 02:42:37'}, {'type': 'GIFT_DEPOSIT', 'amount': 5023, 'date': '2017-07-08 02:42:37'}]\n"
     ]
    }
   ],
   "source": [
    "from time import gmtime, strftime\n",
    "\n",
    "class bank:\n",
    "    def __init__(self):\n",
    "        self.gift_bank = []\n",
    "        self.transaction = []\n",
    "      \n",
    "    # check format\n",
    "    def add_cash(self, c):\n",
    "        return {\n",
    "            'save': c * .2, \n",
    "            'spend': c * .3, \n",
    "            'utility': c * .5\n",
    "        }   \n",
    "    \n",
    "    # add check using check format\n",
    "    def deposit_gift(self, gift):\n",
    "        self.gift_bank.append(self.add_cash(gift))\n",
    "        self.transaction.append({\n",
    "            'type': 'GIFT_DEPOSIT', \n",
    "            'amount': gift, \n",
    "            'date': strftime(\"%Y-%m-%d %H:%M:%S\", gmtime())\n",
    "        })\n",
    "    \n",
    "    # withdraw from prop of check\n",
    "    def take_from_env(self, id, envelope, amount, title):\n",
    "        c = self.gift_bank[id]\n",
    "        if c[envelope] - amount < 0:\n",
    "            print(envelope, 'envelope only has', c[envelope], 'dollers try again.')\n",
    "        else:\n",
    "            c[envelope] = c[envelope] - amount\n",
    "            self.transaction.append({\n",
    "                'type': 'TRANSACTION', \n",
    "                'amount': amount,\n",
    "                'envelope': envelope,\n",
    "                'title' : title,\n",
    "                'gift': self.transaction[id],\n",
    "                'date': strftime(\"%Y-%m-%d %H:%M:%S\", gmtime())\n",
    "            })\n",
    "            \n",
    "    def analyze_take(self):\n",
    "        data_ab = []\n",
    "        for x in self.transaction:\n",
    "            if x['type'] == 'TRANSACTION': \n",
    "                data_ab.append(x['title'])\n",
    "            \n",
    "    def display_bank(self):\n",
    "        total = 0\n",
    "        save = 0\n",
    "        spend = 0\n",
    "        utility = 0\n",
    "        print('Transactions')\n",
    "        print('-----------------------')\n",
    "        for v in self.transaction:\n",
    "            total = total + v[\"amount\"]\n",
    "            if v[\"type\"] == \"GIFT_DEPOSIT\":\n",
    "                print('    ')\n",
    "                print(\"Date:\",v[\"date\"])\n",
    "                print(\"Deposited:\", v[\"amount\"])\n",
    "                print('    ')\n",
    "            elif v[\"type\"] == \"TRANSACTION\":\n",
    "                print('    ')\n",
    "                print(\"Date:\",v[\"date\"])\n",
    "                print(\"Withdraw: -\", v[\"amount\"])\n",
    "                print(\"Title:\", v[\"title\"])\n",
    "                print(\"Envelope:\", v[\"envelope\"])\n",
    "                print('    ')\n",
    "                \n",
    "        \n",
    "        for x in self.gift_bank:\n",
    "            save = save + x[\"save\"] \n",
    "            spend = spend + x[\"spend\"] \n",
    "            utility = utility + x[\"utility\"]   \n",
    "        \n",
    "        print('Overview')\n",
    "        print('----------------------')\n",
    "        print('    ')\n",
    "        print('savings-total:', save)\n",
    "        print('    ')\n",
    "        print('spending-total:', spend)\n",
    "        print('    ')\n",
    "        print('utility-total:', utility)\n",
    "        print('    ')\n",
    "        print('account-balance-total:', total)\n",
    "        print('    '),"
   ]
  },
  {
   "cell_type": "code",
   "execution_count": null,
   "metadata": {
    "collapsed": true
   },
   "outputs": [],
   "source": []
  }
 ],
 "metadata": {
  "kernelspec": {
   "display_name": "Python 3",
   "language": "python",
   "name": "python3"
  },
  "language_info": {
   "codemirror_mode": {
    "name": "ipython",
    "version": 3
   },
   "file_extension": ".py",
   "mimetype": "text/x-python",
   "name": "python",
   "nbconvert_exporter": "python",
   "pygments_lexer": "ipython3",
   "version": "3.6.0"
  }
 },
 "nbformat": 4,
 "nbformat_minor": 2
}
